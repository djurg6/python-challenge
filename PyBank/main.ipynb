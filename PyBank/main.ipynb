{
 "cells": [
  {
   "cell_type": "code",
   "execution_count": 1,
   "id": "ff5ae23b-19f8-48f0-8d96-d1b96d149614",
   "metadata": {},
   "outputs": [],
   "source": [
    "import csv\n",
    "import pandas as pd"
   ]
  },
  {
   "cell_type": "code",
   "execution_count": 2,
   "id": "c3331bb5-6e6e-42b4-973c-2da08c426ddb",
   "metadata": {
    "tags": []
   },
   "outputs": [],
   "source": [
    "file = 'budget_data.csv'"
   ]
  },
  {
   "cell_type": "code",
   "execution_count": 3,
   "id": "6088cdf2-8107-4d2d-8d08-4000c7e5bd56",
   "metadata": {
    "tags": []
   },
   "outputs": [],
   "source": [
    "total_months = 0\n",
    "total_net = 0\n",
    "month_change = []\n",
    "net_change_list = []\n",
    "greatest_increase = ['',0]\n",
    "greatest_decrease = ['',9999999]"
   ]
  },
  {
   "cell_type": "code",
   "execution_count": 4,
   "id": "a09a07bd-3e61-46ae-bc83-a9074a71ef54",
   "metadata": {
    "tags": []
   },
   "outputs": [
    {
     "name": "stdout",
     "output_type": "stream",
     "text": [
      "Financial Analysis of PyBank\n",
      "----------------------------\n",
      "Total Months in Set: 86\n",
      "Total P/L: $38382578\n",
      "Average Change in P/L: $-2315.12\n",
      "Greatest Increase in Profits: Feb-2012 ($1926159)\n",
      "Greatest Decrease in Profits: Sep-2013 ($-2196167)\n"
     ]
    }
   ],
   "source": [
    "with open(file,'r') as f:\n",
    "    reader = csv.reader(f)\n",
    "    header = next(reader)\n",
    "    \n",
    "    first_row = next(reader)\n",
    "    total_months = total_months + 1\n",
    "    total_net = total_net + int(first_row[1])\n",
    "    prev_month_net = int(first_row[1])\n",
    "    \n",
    "    for i in reader:\n",
    "        total_months = total_months + 1\n",
    "        total_net = total_net + int(i[1])\n",
    "        \n",
    "        net_change = int(i[1]) - prev_month_net\n",
    "        prev_month_net = int(i[1])\n",
    "        net_change_list = net_change_list + [net_change]\n",
    "        month_change = month_change + [i[0]]\n",
    "        # average_change = sum(net_change_list) / len(net_change_list)\n",
    "        # greatest_increase = max(net_change_list)\n",
    "        # greatest_decrease = min(net_change_list)\n",
    "        # increase_index = net_change_list.index(greatest_increase)\n",
    "        # decrease_index = net_change_list.index(greatest_decrease)\n",
    "        \n",
    "        if net_change > greatest_increase[1]:\n",
    "            greatest_increase[0] = i[0]\n",
    "            greatest_increase[1] = net_change\n",
    "            \n",
    "        if net_change < greatest_decrease[1]:\n",
    "            greatest_decrease[0] = i[0]\n",
    "            greatest_decrease[1] = net_change\n",
    "            \n",
    "net_monthly_average = round(sum(net_change_list) / len(net_change_list),2)\n",
    "        \n",
    "with open(file, \"r\") as f:\n",
    "    reader = csv.reader(f)\n",
    "    header = next(reader)\n",
    "    \n",
    "#     for i in range (increase_index + 1):\n",
    "#         next(reader)\n",
    "#     increase_date = next(reader)[0]\n",
    "    \n",
    "#     for i in range(decrease_index + 1):\n",
    "#         next(reader)\n",
    "#     decrease_date = next(reader)[0]\n",
    "    \n",
    "print(\"Financial Analysis of PyBank\")\n",
    "print(\"----------------------------\")\n",
    "print(f\"Total Months in Set: {total_months}\")\n",
    "print(f\"Total P/L: ${total_net}\")\n",
    "print(f\"Average Change in P/L: ${net_monthly_average}\")\n",
    "print(f\"Greatest Increase in Profits: {greatest_increase[0]} (${greatest_increase[1]})\")\n",
    "print(f\"Greatest Decrease in Profits: {greatest_decrease[0]} (${greatest_decrease[1]})\")\n",
    "\n"
   ]
  },
  {
   "cell_type": "code",
   "execution_count": null,
   "id": "1e6fcfee-6c73-4063-a873-55b6fdde8111",
   "metadata": {
    "tags": []
   },
   "outputs": [],
   "source": []
  },
  {
   "cell_type": "code",
   "execution_count": null,
   "id": "2dea6171-5c7b-4d28-ace2-867dc544f9e6",
   "metadata": {},
   "outputs": [],
   "source": []
  }
 ],
 "metadata": {
  "kernelspec": {
   "display_name": "Python 3 (ipykernel)",
   "language": "python",
   "name": "python3"
  },
  "language_info": {
   "codemirror_mode": {
    "name": "ipython",
    "version": 3
   },
   "file_extension": ".py",
   "mimetype": "text/x-python",
   "name": "python",
   "nbconvert_exporter": "python",
   "pygments_lexer": "ipython3",
   "version": "3.11.4"
  },
  "toc-showtags": true
 },
 "nbformat": 4,
 "nbformat_minor": 5
}
